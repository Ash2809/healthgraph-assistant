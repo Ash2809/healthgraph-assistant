{
 "cells": [
  {
   "cell_type": "code",
<<<<<<< HEAD
   "execution_count": 1,
=======
   "execution_count": 88,
>>>>>>> 746e4da6e07055b068c13234ed47cf86ec133c5c
   "id": "b81244cb",
   "metadata": {},
   "outputs": [
    {
     "name": "stderr",
     "output_type": "stream",
     "text": [
      "/opt/anaconda3/envs/env/lib/python3.9/site-packages/tqdm/auto.py:21: TqdmWarning: IProgress not found. Please update jupyter and ipywidgets. See https://ipywidgets.readthedocs.io/en/stable/user_install.html\n",
      "  from .autonotebook import tqdm as notebook_tqdm\n",
      "/opt/anaconda3/envs/env/lib/python3.9/site-packages/IPython/core/interactiveshell.py:3550: LangChainDeprecationWarning: As of langchain-core 0.3.0, LangChain uses pydantic v2 internally. The langchain.pydantic_v1 module was a compatibility shim for pydantic v1, and should no longer be used. Please update the code to import from Pydantic directly.\n",
      "\n",
      "For example, replace imports like: `from langchain.pydantic_v1 import BaseModel`\n",
      "with: `from pydantic import BaseModel`\n",
      "or the v1 compatibility namespace if you are working in a code base that has not been fully upgraded to pydantic 2 yet. \tfrom pydantic.v1 import BaseModel\n",
      "\n",
      "  exec(code_obj, self.user_global_ns, self.user_ns)\n"
     ]
    },
    {
     "data": {
      "text/plain": [
       "True"
      ]
     },
<<<<<<< HEAD
     "execution_count": 1,
=======
     "execution_count": 88,
>>>>>>> 746e4da6e07055b068c13234ed47cf86ec133c5c
     "metadata": {},
     "output_type": "execute_result"
    }
   ],
   "source": [
    "from langchain_google_genai import ChatGoogleGenerativeAI\n",
    "from langchain.pydantic_v1 import BaseModel, Field\n",
    "from langgraph.checkpoint.memory import MemorySaver\n",
    "from langgraph.graph import StateGraph, END\n",
    "\n",
    "import pickle\n",
    "import os\n",
    "import json\n",
    "import time\n",
    "from pathlib import Path\n",
    "from dotenv import load_dotenv\n",
    "from typing import Any, Dict, List, Optional, Literal, TypedDict\n",
    "from dataclasses import dataclass, asdict\n",
    "\n",
    "from langchain_huggingface import HuggingFaceEmbeddings\n",
    "from langchain_astradb import AstraDBVectorStore\n",
    "\n",
    "from langchain_community.document_loaders import JSONLoader\n",
    "from langchain.document_loaders import PyPDFLoader\n",
    "from langchain.vectorstores import FAISS\n",
    "\n",
    "\n",
    "from langchain_google_genai import ChatGoogleGenerativeAI, GoogleGenerativeAIEmbeddings\n",
    "from langchain.chains import ConversationalRetrievalChain\n",
    "from langchain.memory import ConversationBufferMemory\n",
    "\n",
    "\n",
    "from flask import Flask, request, jsonify\n",
    "load_dotenv()"
   ]
  },
  {
   "cell_type": "code",
<<<<<<< HEAD
   "execution_count": 2,
=======
   "execution_count": 89,
>>>>>>> 746e4da6e07055b068c13234ed47cf86ec133c5c
   "id": "d1f67917",
   "metadata": {},
   "outputs": [],
   "source": [
    "GEMINI_API_KEY = os.getenv(\"GEMINI_API_KEY\")\n",
    "ASTRA_API_KEY = os.getenv(\"ASTRA_API_KEY\")\n",
    "DB_ENDPOINT = os.getenv(\"DB_ENDPOINT\")"
   ]
  },
  {
   "cell_type": "code",
<<<<<<< HEAD
   "execution_count": 3,
=======
   "execution_count": 83,
>>>>>>> 746e4da6e07055b068c13234ed47cf86ec133c5c
   "id": "ff439bb2",
   "metadata": {},
   "outputs": [
    {
     "name": "stderr",
     "output_type": "stream",
     "text": [
<<<<<<< HEAD
      "WARNING: All log messages before absl::InitializeLog() is called are written to STDERR\n",
      "E0000 00:00:1758359887.156576  698229 alts_credentials.cc:93] ALTS creds ignored. Not running on GCP and untrusted ALTS is not enabled.\n"
=======
      "E0000 00:00:1758285378.407604  142308 alts_credentials.cc:93] ALTS creds ignored. Not running on GCP and untrusted ALTS is not enabled.\n"
>>>>>>> 746e4da6e07055b068c13234ed47cf86ec133c5c
     ]
    }
   ],
   "source": [
    "llm = ChatGoogleGenerativeAI(model = \"gemini-2.0-flash\", api_key=GEMINI_API_KEY, temperature= 0.2)"
   ]
  },
  {
   "cell_type": "code",
<<<<<<< HEAD
   "execution_count": 4,
=======
   "execution_count": 84,
>>>>>>> 746e4da6e07055b068c13234ed47cf86ec133c5c
   "id": "3b1f3c37",
   "metadata": {},
   "outputs": [
    {
     "data": {
      "text/plain": [
       "'Hello! How can I help you today?'"
      ]
     },
<<<<<<< HEAD
     "execution_count": 4,
=======
     "execution_count": 84,
>>>>>>> 746e4da6e07055b068c13234ed47cf86ec133c5c
     "metadata": {},
     "output_type": "execute_result"
    }
   ],
   "source": [
    "llm.invoke(\"hello\").content"
   ]
  },
  {
   "cell_type": "code",
   "execution_count": 5,
   "id": "59a98de0",
   "metadata": {},
   "outputs": [],
   "source": [
    "class DiskConversationMemory:\n",
    "    def __init__(self, filename: str = \"chat_memory.pkl\"):\n",
    "        self.filename = Path(filename)\n",
    "        self.memory = ConversationBufferMemory(return_messages=True)\n",
    "        self._load()\n",
    "\n",
    "\n",
    "    def _load(self):\n",
    "        if self.filename.exists():\n",
    "            try:\n",
    "                with open(self.filename, \"rb\") as f:\n",
    "                    self.memory = pickle.load(f)\n",
    "                print(f\"Loaded memory from {self.filename}\")\n",
    "            except Exception as e:\n",
    "                print(\"Failed to load memory, starting fresh:\", e)\n",
    "\n",
    "\n",
    "    def persist(self):\n",
    "        try:\n",
    "            with open(self.filename, \"wb\") as f:\n",
    "                pickle.dump(self.memory, f)\n",
    "                print(f\"Persisted memory to {self.filename}\")\n",
    "        except Exception as e:\n",
    "            print(\"Failed to persist memory:\", e)"
   ]
  },
  {
   "cell_type": "code",
   "execution_count": 39,
   "id": "2b8ddf66",
   "metadata": {},
   "outputs": [],
   "source": [
    "class HealthGraphState(BaseModel):\n",
    "    twilio_payload: Optional[Dict[str, Any]] = None\n",
    "    user_message: Optional[str] = None\n",
    "    user_meta: Optional[Dict[str, Any]] = None\n",
    "    vaccination_docs: Optional[Any] = None\n",
    "    outbreak_docs: Optional[Any] = None\n",
    "    local_vectorstore: Optional[Any] = None\n",
    "    disk_memory: Optional[Any] = None\n",
    "    route_decision: Optional[Dict[str, str]] = None\n",
    "    response: Optional[str] = None\n",
    "    vaccination_json_path: Optional[str] = r\"/Users/aashutoshkumar/Documents/Projects/healthgraph-assistant/data/vaccination_schedule.json\"\n",
    "    outbreak_pdf_path: Optional[str] = r\"/Users/aashutoshkumar/Documents/Projects/healthgraph-assistant/latest_weekly_outbreak/31st_weekly_outbreak.pdf\"\n",
    "    index_dir: Optional[str] = r\"/Users/aashutoshkumar/Documents/Projects/healthgraph-assistant/exp/faiss_index/index.faiss\"\n"
   ]
  },
  {
   "cell_type": "code",
   "execution_count": 40,
   "id": "a8710290",
   "metadata": {},
   "outputs": [],
   "source": [
    "def node_twilio_ingress(state: HealthGraphState):\n",
    "    payload = state.twilio_payload if hasattr(state, \"twilio_payload\") else None\n",
    "    if not payload:\n",
    "        return state\n",
    "\n",
    "    text = payload.get(\"Body\") or payload.get(\"Message\") or payload.get(\"text\")\n",
    "    sender = payload.get(\"From\") or payload.get(\"from\")\n",
    "\n",
    "    state.user_message = text\n",
    "    state.user_meta = {\"sender\": sender, \"raw_payload\": payload}\n",
    "    return state\n"
   ]
  },
  {
   "cell_type": "code",
   "execution_count": 7,
   "id": "f21d40f6",
   "metadata": {},
   "outputs": [
    {
     "ename": "TypeError",
     "evalue": "node_twilio_ingress() missing 2 required positional arguments: 'config' and 'runtime'",
     "output_type": "error",
     "traceback": [
      "\u001b[0;31m---------------------------------------------------------------------------\u001b[0m",
      "\u001b[0;31mTypeError\u001b[0m                                 Traceback (most recent call last)",
      "Cell \u001b[0;32mIn[7], line 31\u001b[0m\n\u001b[1;32m     27\u001b[0m     \u001b[38;5;28mprint\u001b[39m(\u001b[38;5;124m\"\u001b[39m\u001b[38;5;124mTest 4 Output:\u001b[39m\u001b[38;5;124m\"\u001b[39m, node_twilio_ingress(state4))\n\u001b[1;32m     30\u001b[0m \u001b[38;5;28;01mif\u001b[39;00m \u001b[38;5;18m__name__\u001b[39m \u001b[38;5;241m==\u001b[39m \u001b[38;5;124m\"\u001b[39m\u001b[38;5;124m__main__\u001b[39m\u001b[38;5;124m\"\u001b[39m:\n\u001b[0;32m---> 31\u001b[0m     \u001b[43mmain\u001b[49m\u001b[43m(\u001b[49m\u001b[43m)\u001b[49m\n",
      "Cell \u001b[0;32mIn[7], line 8\u001b[0m, in \u001b[0;36mmain\u001b[0;34m()\u001b[0m\n\u001b[1;32m      1\u001b[0m \u001b[38;5;28;01mdef\u001b[39;00m\u001b[38;5;250m \u001b[39m\u001b[38;5;21mmain\u001b[39m():\n\u001b[1;32m      2\u001b[0m     state1 \u001b[38;5;241m=\u001b[39m {\n\u001b[1;32m      3\u001b[0m         \u001b[38;5;124m\"\u001b[39m\u001b[38;5;124mtwilio_payload\u001b[39m\u001b[38;5;124m\"\u001b[39m: {\n\u001b[1;32m      4\u001b[0m             \u001b[38;5;124m\"\u001b[39m\u001b[38;5;124mBody\u001b[39m\u001b[38;5;124m\"\u001b[39m: \u001b[38;5;124m\"\u001b[39m\u001b[38;5;124mHello from Twilio!\u001b[39m\u001b[38;5;124m\"\u001b[39m,\n\u001b[1;32m      5\u001b[0m             \u001b[38;5;124m\"\u001b[39m\u001b[38;5;124mFrom\u001b[39m\u001b[38;5;124m\"\u001b[39m: \u001b[38;5;124m\"\u001b[39m\u001b[38;5;124m+911234567890\u001b[39m\u001b[38;5;124m\"\u001b[39m\n\u001b[1;32m      6\u001b[0m         }\n\u001b[1;32m      7\u001b[0m     }\n\u001b[0;32m----> 8\u001b[0m     \u001b[38;5;28mprint\u001b[39m(\u001b[38;5;124m\"\u001b[39m\u001b[38;5;124mTest 1 Output:\u001b[39m\u001b[38;5;124m\"\u001b[39m, \u001b[43mnode_twilio_ingress\u001b[49m\u001b[43m(\u001b[49m\u001b[43mstate1\u001b[49m\u001b[43m)\u001b[49m)\n\u001b[1;32m     10\u001b[0m     state2 \u001b[38;5;241m=\u001b[39m {\n\u001b[1;32m     11\u001b[0m         \u001b[38;5;124m\"\u001b[39m\u001b[38;5;124mtwilio_payload\u001b[39m\u001b[38;5;124m\"\u001b[39m: {\n\u001b[1;32m     12\u001b[0m             \u001b[38;5;124m\"\u001b[39m\u001b[38;5;124mMessage\u001b[39m\u001b[38;5;124m\"\u001b[39m: \u001b[38;5;124m\"\u001b[39m\u001b[38;5;124mHi, using Message field\u001b[39m\u001b[38;5;124m\"\u001b[39m,\n\u001b[1;32m     13\u001b[0m             \u001b[38;5;124m\"\u001b[39m\u001b[38;5;124mfrom\u001b[39m\u001b[38;5;124m\"\u001b[39m: \u001b[38;5;124m\"\u001b[39m\u001b[38;5;124m+919876543210\u001b[39m\u001b[38;5;124m\"\u001b[39m\n\u001b[1;32m     14\u001b[0m         }\n\u001b[1;32m     15\u001b[0m     }\n\u001b[1;32m     16\u001b[0m     \u001b[38;5;28mprint\u001b[39m(\u001b[38;5;124m\"\u001b[39m\u001b[38;5;124mTest 2 Output:\u001b[39m\u001b[38;5;124m\"\u001b[39m, node_twilio_ingress(state2))\n",
      "\u001b[0;31mTypeError\u001b[0m: node_twilio_ingress() missing 2 required positional arguments: 'config' and 'runtime'"
     ]
    }
   ],
   "source": [
    "def main():\n",
    "    state1 = {\n",
    "        \"twilio_payload\": {\n",
    "            \"Body\": \"Hello from Twilio!\",\n",
    "            \"From\": \"+911234567890\"\n",
    "        }\n",
    "    }\n",
    "    print(\"Test 1 Output:\", node_twilio_ingress(state1))\n",
    "\n",
    "    state2 = {\n",
    "        \"twilio_payload\": {\n",
    "            \"Message\": \"Hi, using Message field\",\n",
    "            \"from\": \"+919876543210\"\n",
    "        }\n",
    "    }\n",
    "    print(\"Test 2 Output:\", node_twilio_ingress(state2))\n",
    "\n",
    "    state3 = {\n",
    "        \"twilio_payload\": {\n",
    "            \"text\": \"Hello using text field\",\n",
    "            \"From\": \"+1111111111\"\n",
    "        }\n",
    "    }\n",
    "    print(\"Test 3 Output:\", node_twilio_ingress(state3))\n",
    "\n",
    "    state4 = {}\n",
    "    print(\"Test 4 Output:\", node_twilio_ingress(state4))\n",
    "\n",
    "\n",
    "if __name__ == \"__main__\":\n",
    "    main()"
   ]
  },
  {
   "cell_type": "code",
   "execution_count": 37,
   "id": "1a1129f8",
   "metadata": {},
   "outputs": [],
   "source": [
    "def node_load_vaccination_json(state):\n",
    "    path = state.get(\"vaccination_json_path\", \"data/vaccination_schedule.json\")\n",
    "    loader = JSONLoader(file_path=path)\n",
    "    docs = loader.load()\n",
    "    state[\"vaccination_docs\"] = docs\n",
    "    return state\n"
   ]
  },
  {
   "cell_type": "code",
   "execution_count": 9,
   "id": "36a99e33",
   "metadata": {},
   "outputs": [],
   "source": [
    "def node_load_outbreak_pdf(state):\n",
    "    path = state.get(\"outbreak_pdf_path\", \"data/outbreak_report.pdf\")\n",
    "    loader = PyPDFLoader(path)\n",
    "    docs = loader.load_and_split()\n",
    "    state[\"outbreak_docs\"] = docs\n",
    "    return state"
   ]
  },
  {
   "cell_type": "code",
   "execution_count": 10,
   "id": "5fd1dede",
   "metadata": {},
   "outputs": [
    {
     "name": "stdout",
     "output_type": "stream",
     "text": [
      "✅ Test 1: Loaded 32 docs from /Users/aashutoshkumar/Documents/Projects/healthgraph-assistant/latest_weekly_outbreak/31st_weekly_outbreak.pdf\n",
      "✅ Test 2: Loaded 32 docs from default path\n"
     ]
    }
   ],
   "source": [
    "def main():\n",
    "    state1 = {\n",
    "        \"outbreak_pdf_path\": r\"/Users/aashutoshkumar/Documents/Projects/healthgraph-assistant/latest_weekly_outbreak/31st_weekly_outbreak.pdf\" \n",
    "    }\n",
    "    try:\n",
    "        result1 = node_load_outbreak_pdf(state1)\n",
    "        print(f\"✅ Test 1: Loaded {len(result1['outbreak_docs'])} docs from {state1['outbreak_pdf_path']}\")\n",
    "    except Exception as e:\n",
    "        print(f\"❌ Test 1 failed: {e}\")\n",
    "\n",
    "    state2 = {\n",
    "        \"outbreak_pdf_path\": r\"/Users/aashutoshkumar/Documents/Projects/healthgraph-assistant/latest_weekly_outbreak/31st_weekly_outbreak.pdf\" \n",
    "    }\n",
    "    try:\n",
    "        \n",
    "        result2 = node_load_outbreak_pdf(state2)\n",
    "        print(f\"✅ Test 2: Loaded {len(result2['outbreak_docs'])} docs from default path\")\n",
    "    except Exception as e:\n",
    "        print(f\"❌ Test 2 failed: {e}\")\n",
    "\n",
    "\n",
    "if __name__ == \"__main__\":\n",
    "    main()"
   ]
  },
  {
   "cell_type": "code",
   "execution_count": 11,
   "id": "26f9e70a",
   "metadata": {},
   "outputs": [],
   "source": [
    "from typing import Dict, Any\n",
    "from pathlib import Path\n",
    "from langchain.vectorstores import FAISS\n",
    "from langchain_community.embeddings import HuggingFaceEmbeddings\n",
    "\n",
    "def node_build_faiss_index(state):\n",
    "    hf_embedding = HuggingFaceEmbeddings(\n",
    "        model_name=\"sentence-transformers/all-MiniLM-L6-v2\"\n",
    "    )\n",
    "\n",
    "    docs = state.get(\"outbreak_docs\", [])\n",
    "\n",
    "    if not docs:\n",
    "        print(\"No outbreak documents found to index.\")\n",
    "        return state\n",
    "\n",
    "    index_dir = Path(state.get(\"index_dir\", \"./faiss_index\"))\n",
    "    index_dir.mkdir(parents=True, exist_ok=True)\n",
    "\n",
    "    vectorstore = FAISS.from_documents(docs, embedding=hf_embedding)\n",
    "    vectorstore.save_local(index_dir)\n",
    "\n",
    "    state[\"local_vectorstore\"] = vectorstore\n",
    "\n",
    "    print(f\"FAISS index built with {len(docs)} outbreak docs and saved to {index_dir}\")\n",
    "\n",
    "    return state\n"
   ]
  },
  {
   "cell_type": "code",
<<<<<<< HEAD
   "execution_count": 12,
   "id": "351f5434",
   "metadata": {},
   "outputs": [
    {
     "name": "stdout",
     "output_type": "stream",
     "text": [
      "Loaded 32 pages from outbreak PDF\n"
     ]
    },
    {
     "ename": "TypeError",
     "evalue": "node_build_faiss_index() got an unexpected keyword argument 'config'",
     "output_type": "error",
     "traceback": [
      "\u001b[0;31m---------------------------------------------------------------------------\u001b[0m",
      "\u001b[0;31mTypeError\u001b[0m                                 Traceback (most recent call last)",
      "Cell \u001b[0;32mIn[12], line 19\u001b[0m\n\u001b[1;32m     16\u001b[0m     \u001b[38;5;28mprint\u001b[39m(\u001b[38;5;124mf\u001b[39m\u001b[38;5;124m\"\u001b[39m\u001b[38;5;124mPDF not found at \u001b[39m\u001b[38;5;132;01m{\u001b[39;00moutbreak_pdf_path\u001b[38;5;132;01m}\u001b[39;00m\u001b[38;5;124m\"\u001b[39m)\n\u001b[1;32m     17\u001b[0m     exit(\u001b[38;5;241m1\u001b[39m)\n\u001b[0;32m---> 19\u001b[0m state \u001b[38;5;241m=\u001b[39m \u001b[43mnode_build_faiss_index\u001b[49m\u001b[43m(\u001b[49m\u001b[43mstate\u001b[49m\u001b[43m,\u001b[49m\u001b[43m \u001b[49m\u001b[43mconfig\u001b[49m\u001b[38;5;241;43m=\u001b[39;49m\u001b[38;5;28;43;01mNone\u001b[39;49;00m\u001b[43m,\u001b[49m\u001b[43m \u001b[49m\u001b[43mruntime\u001b[49m\u001b[38;5;241;43m=\u001b[39;49m\u001b[38;5;28;43;01mNone\u001b[39;49;00m\u001b[43m)\u001b[49m\n\u001b[1;32m     21\u001b[0m \u001b[38;5;28;01mif\u001b[39;00m \u001b[38;5;124m\"\u001b[39m\u001b[38;5;124mlocal_vectorstore\u001b[39m\u001b[38;5;124m\"\u001b[39m \u001b[38;5;129;01min\u001b[39;00m state:\n\u001b[1;32m     22\u001b[0m     retriever \u001b[38;5;241m=\u001b[39m state[\u001b[38;5;124m\"\u001b[39m\u001b[38;5;124mlocal_vectorstore\u001b[39m\u001b[38;5;124m\"\u001b[39m]\u001b[38;5;241m.\u001b[39mas_retriever(search_kwargs\u001b[38;5;241m=\u001b[39m{\u001b[38;5;124m\"\u001b[39m\u001b[38;5;124mk\u001b[39m\u001b[38;5;124m\"\u001b[39m: \u001b[38;5;241m3\u001b[39m})\n",
      "\u001b[0;31mTypeError\u001b[0m: node_build_faiss_index() got an unexpected keyword argument 'config'"
     ]
    }
   ],
   "source": [
    "if __name__ == \"__main__\":\n",
    "    from langchain.document_loaders import PyPDFLoader\n",
    "\n",
    "    state: Dict[str, Any] = {\n",
    "        \"outbreak_docs\": [],         \n",
    "        \"index_dir\": \"./faiss_index\"  \n",
    "    }\n",
    "\n",
    "    outbreak_pdf_path = r\"/Users/aashutoshkumar/Documents/Projects/healthgraph-assistant/latest_weekly_outbreak/31st_weekly_outbreak.pdf\"\n",
    "    if Path(outbreak_pdf_path).exists():\n",
    "        loader = PyPDFLoader(outbreak_pdf_path)\n",
    "        docs = loader.load_and_split()  \n",
    "        state[\"outbreak_docs\"] = docs\n",
    "        print(f\"Loaded {len(docs)} pages from outbreak PDF\")\n",
    "    else:\n",
    "        print(f\"PDF not found at {outbreak_pdf_path}\")\n",
    "        exit(1)\n",
    "\n",
    "    state = node_build_faiss_index(state, config=None, runtime=None)\n",
    "\n",
    "    if \"local_vectorstore\" in state:\n",
    "        retriever = state[\"local_vectorstore\"].as_retriever(search_kwargs={\"k\": 3})\n",
    "        print(\"FAISS retriever ready for testing\")\n",
    "        query = \"recent outbreaks in the report\"\n",
    "        results = retriever.get_relevant_documents(query)\n",
    "        print(f\"\\nTest query: {query}\")\n",
    "        print(f\"Retrieved {len(results)} docs. First doc content snippet:\\n\")\n",
    "        print(results[0].page_content[:50] if results else \"No documents retrieved\")\n"
   ]
  },
  {
   "cell_type": "code",
   "execution_count": null,
=======
   "execution_count": 69,
>>>>>>> 746e4da6e07055b068c13234ed47cf86ec133c5c
   "id": "225cd05e",
   "metadata": {},
   "outputs": [],
   "source": [
    "def node_router(state):\n",
    "\n",
    "    message = state.user_message or \"\"\n",
    "    if not message:\n",
    "        state[\"route_decision\"] = {\"route\": \"general_query\", \"reason\": \"empty_message\"}\n",
    "        return state\n",
    "\n",
    "\n",
    "    lower = message.lower()\n",
    "    if any(w in lower for w in [\"urgent\", \"emergency\", \"outbreak\", \"hospital\", \"clinic\", \"immediate\"]):\n",
    "        state[\"route_decision\"] = {\"route\": \"emergency_outbreak\", \"reason\": \"keyword_match\"}\n",
    "        return state\n",
    "\n",
    "\n",
    "    if any(w in lower for w in [\"symptom\", \"fever\", \"cough\", \"vomit\", \"rash\", \"pain\"]):\n",
    "        state[\"route_decision\"] = {\"route\": \"symptom\", \"reason\": \"keyword_match\"}\n",
    "        return state\n",
    "\n",
    "\n",
    "    if any(w in lower for w in [\"vaccine\", \"vaccination\", \"due\", \"schedule\", \"immunize\"]):\n",
    "        state[\"route_decision\"] = {\"route\": \"vaccination_schedule\", \"reason\": \"keyword_match\"}\n",
    "        return state\n",
    "\n",
    "\n",
    "    prompt = (\n",
    "        \"You are a router deciding how to handle user messages. \"\n",
    "        \"Choose one of: emergency_outbreak, symptom, vaccination_schedule, general_query. \"\n",
    "        \"Respond with a JSON object {'route':'...', 'reason':'...'} only.\\n\"\n",
    "        f\"Message: {message}\"\n",
    "    )\n",
    "\n",
    "\n",
    "    decision_text = llm.invoke([{\"role\": \"user\", \"content\": prompt}]).content\n",
    "    import json\n",
    "    try:\n",
    "        decision = json.loads(decision_text)\n",
    "        state[\"route_decision\"] = decision\n",
    "    except Exception:\n",
    "        state[\"route_decision\"] = {\"route\": \"general_query\", \"reason\": \"llm_parse_failed\"}\n",
    "\n",
    "\n",
    "    return state"
   ]
  },
  {
   "cell_type": "code",
<<<<<<< HEAD
   "execution_count": 14,
=======
   "execution_count": 70,
>>>>>>> 746e4da6e07055b068c13234ed47cf86ec133c5c
   "id": "889b6f7d",
   "metadata": {},
   "outputs": [
    {
     "name": "stdout",
     "output_type": "stream",
     "text": [
      "Test 1 Input: ''\n",
      "Test 1 Output: {'route': 'general_query', 'reason': 'empty_message'}\n",
      "------------------------------------------------------------\n",
      "Test 2 Input: 'This is an urgent hospital emergency'\n",
      "Test 2 Output: {'route': 'emergency_outbreak', 'reason': 'keyword_match'}\n",
      "------------------------------------------------------------\n",
      "Test 3 Input: 'I have fever and cough'\n",
      "Test 3 Output: {'route': 'symptom', 'reason': 'keyword_match'}\n",
      "------------------------------------------------------------\n",
      "Test 4 Input: 'When is my next vaccination due?'\n",
      "Test 4 Output: {'route': 'vaccination_schedule', 'reason': 'keyword_match'}\n",
      "------------------------------------------------------------\n",
      "Test 5 Input: 'Tell me about health services'\n",
      "Test 5 Output: {'route': 'general_query', 'reason': 'llm_parse_failed'}\n",
      "------------------------------------------------------------\n"
     ]
    }
   ],
   "source": [
    "def main():\n",
    "    test_states = [\n",
    "        {\"user_message\": \"\"},  # empty\n",
    "        {\"user_message\": \"This is an urgent hospital emergency\"},  # emergency_outbreak\n",
    "        {\"user_message\": \"I have fever and cough\"},  # symptom\n",
    "        {\"user_message\": \"When is my next vaccination due?\"},  # vaccination\n",
    "        {\"user_message\": \"Tell me about health services\"},  # fallback -> mock LLM\n",
    "    ]\n",
    "\n",
    "    for i, state in enumerate(test_states, 1):\n",
    "        result = node_router(state)  # use_mock=True avoids real API calls\n",
    "        print(f\"Test {i} Input: {state['user_message']!r}\")\n",
    "        print(f\"Test {i} Output: {result['route_decision']}\")\n",
    "        print(\"-\" * 60)\n",
    "\n",
    "\n",
    "if __name__ == \"__main__\":\n",
    "    main()"
   ]
  },
  {
   "cell_type": "code",
   "execution_count": 72,
   "id": "368588a1",
   "metadata": {},
   "outputs": [],
   "source": [
<<<<<<< HEAD
    "from typing import Dict, Any, Optional\n",
    "from langchain.chains import ConversationalRetrievalChain\n",
    "\n",
    "def node_emergency_outbreak(state):\n",
    "    \"\"\"\n",
    "    Handles emergency/outbreak queries using FAISS RAG over outbreak PDF documents.\n",
    "    Produces state['response'] using LLM and optionally persists memory.\n",
    "    \"\"\"\n",
    "    message = state.user_message or \"\"\n",
=======
    "def node_emergency_outbreak(state: Dict[str, Any], config: Any = None, runtime: Any = None):\n",
    "    message = state.get(\"user_message\")\n",
>>>>>>> 746e4da6e07055b068c13234ed47cf86ec133c5c
    "    if not message:\n",
    "        state[\"response\"] = \"No message provided.\"\n",
    "        return state\n",
    "\n",
    "    vectorstore: Optional[\"FAISS\"] = state.get(\"local_vectorstore\")\n",
    "    if vectorstore is None:\n",
    "        state[\"response\"] = \"Outbreak data not indexed. Please run ingestion first.\"\n",
    "        return state\n",
    "\n",
<<<<<<< HEAD
    "    disk_mem = state.get(\"disk_memory\")\n",
    "\n",
    "    system_prompt = \"\"\"\n",
    "    You are a public health assistant specialized in disease outbreaks.\n",
    "    Your role is to answer questions about current outbreaks using the retrieved document excerpts.\n",
    "\n",
    "    Guidelines:\n",
    "    - Focus on the location mentioned in the user's query (city, state, region).\n",
    "    - Answer clearly and concisely.\n",
    "    - Highlight any outbreak, affected population, and recommended precautions.\n",
    "    - Do not provide personal medical advice or diagnosis.\n",
    "    - Be empathetic and professional.\n",
    "    \"\"\"\n",
    "\n",
    "    try:\n",
    "        # Create retriever from FAISS\n",
    "        retriever = vectorstore.as_retriever(search_kwargs={\"k\": 5})\n",
    "\n",
    "        # Build ConversationalRetrievalChain with memory if available\n",
    "        conv = ConversationalRetrievalChain.from_llm(\n",
    "            llm=llm,\n",
    "            retriever=retriever,\n",
    "            memory=disk_mem.memory if disk_mem else None,\n",
    "            return_source_documents=False  # Only get LLM answer\n",
    "        )\n",
    "\n",
    "        # Combine system prompt + user question for LLM\n",
    "        messages = [{\"role\": \"system\", \"content\": system_prompt}]\n",
    "        messages.append({\"role\": \"user\", \"content\": message})\n",
    "\n",
    "        # Run the chain\n",
    "        result = conv.run(\n",
    "    question=message\n",
    ")  # ConversationalRetrievalChain internally uses the prompt\n",
    "\n",
    "        # Save response\n",
    "        state[\"response\"] = result\n",
    "\n",
    "        # Persist memory\n",
    "        if disk_mem:\n",
    "            disk_mem.persist()\n",
=======
    "    try:\n",
    "        retriever = vectorstore.as_retriever(search_kwargs={\"k\": 5})\n",
    "\n",
    "        conv = ConversationalRetrievalChain.from_llm(\n",
    "            llm=llm,\n",
    "            retriever=retriever,\n",
    "            memory=state.get(\"disk_memory\").memory if state.get(\"disk_memory\") else None\n",
    "        )\n",
    "\n",
    "        result = conv.run(question=message)\n",
    "        state[\"response\"] = result\n",
    "\n",
    "        if state.get(\"disk_memory\"):\n",
    "            state[\"disk_memory\"].persist()\n",
>>>>>>> 746e4da6e07055b068c13234ed47cf86ec133c5c
    "\n",
    "    except Exception as e:\n",
    "        state[\"response\"] = f\"Error while handling outbreak query: {e}\"\n",
    "\n",
<<<<<<< HEAD
    "    return state\n"
=======
    "    return state"
>>>>>>> 746e4da6e07055b068c13234ed47cf86ec133c5c
   ]
  },
  {
   "cell_type": "code",
<<<<<<< HEAD
   "execution_count": 17,
   "id": "09ddbc61",
   "metadata": {},
   "outputs": [
    {
     "name": "stderr",
     "output_type": "stream",
     "text": [
      "/var/folders/tc/82s4ljdd4vb27_xxzh25mv0w0000gn/T/ipykernel_16179/2745358194.py:7: LangChainDeprecationWarning: The class `HuggingFaceEmbeddings` was deprecated in LangChain 0.2.2 and will be removed in 1.0. An updated version of the class exists in the :class:`~langchain-huggingface package and should be used instead. To use it run `pip install -U :class:`~langchain-huggingface` and import as `from :class:`~langchain_huggingface import HuggingFaceEmbeddings``.\n",
      "  hf_embedding = HuggingFaceEmbeddings(\n"
     ]
    },
    {
     "name": "stdout",
     "output_type": "stream",
     "text": [
      "FAISS index built with 32 outbreak docs and saved to faiss_outbreak_index\n",
      "User Question: What outbreaks were reported in Kerala?\n",
      "Assistant Response: Error while handling outbreak query: Missing some input keys: {'chat_history'}\n"
     ]
    },
    {
     "name": "stderr",
     "output_type": "stream",
     "text": [
      "/var/folders/tc/82s4ljdd4vb27_xxzh25mv0w0000gn/T/ipykernel_16179/1296605872.py:50: LangChainDeprecationWarning: The method `Chain.run` was deprecated in langchain 0.1.0 and will be removed in 1.0. Use :meth:`~invoke` instead.\n",
      "  result = conv.run(\n"
     ]
    }
   ],
   "source": [
    "from langchain_community.document_loaders import PyPDFLoader\n",
    "from typing import Dict, Any\n",
    "\n",
    "def main():\n",
    "    pdf_path = r\"/Users/aashutoshkumar/Documents/Projects/healthgraph-assistant/latest_weekly_outbreak/31st_weekly_outbreak.pdf\" \n",
    "    loader = PyPDFLoader(pdf_path)\n",
    "    docs = loader.load()\n",
    "\n",
    "    state: Dict[str, Any] = {\n",
    "        \"user_message\": \"What outbreaks were reported in Kerala?\",\n",
    "        \"outbreak_docs\": docs,\n",
    "        \"index_dir\": \"./faiss_outbreak_index\",\n",
    "        \"disk_memory\": None  \n",
    "    }\n",
    "\n",
    "    config = {}\n",
    "    runtime = {}\n",
    "    state = node_build_faiss_index(state)\n",
    "\n",
    "    state = node_emergency_outbreak(state)\n",
    "\n",
    "    print(\"User Question:\", state[\"user_message\"])\n",
    "    print(\"Assistant Response:\", state[\"response\"])\n",
    "\n",
    "\n",
    "if __name__ == \"__main__\":\n",
    "    main()\n"
   ]
  },
  {
   "cell_type": "code",
   "execution_count": null,
=======
   "execution_count": 112,
>>>>>>> 746e4da6e07055b068c13234ed47cf86ec133c5c
   "id": "10e838ea",
   "metadata": {},
   "outputs": [],
   "source": [
    "from langchain.prompts import PromptTemplate\n",
    "from langchain.chains import RetrievalQA\n",
    "from typing import Dict, Any\n",
    "\n",
<<<<<<< HEAD
    "def node_symptom(state):\n",
    "    message = state.user_message or \"\"\n",
=======
    "def node_symptom(state: Dict[str, Any], config, runtime):\n",
    "    message = state.get(\"user_message\")\n",
>>>>>>> 746e4da6e07055b068c13234ed47cf86ec133c5c
    "\n",
    "    hf_embedding = HuggingFaceEmbeddings(\n",
    "        model_name=\"sentence-transformers/all-MiniLM-L6-v2\"\n",
    "    )\n",
    "\n",
    "    vector_store = AstraDBVectorStore(\n",
    "        embedding=hf_embedding,\n",
    "        api_endpoint=DB_ENDPOINT,\n",
    "        namespace=\"default_keyspace\",\n",
    "        token=ASTRA_API_KEY,\n",
    "        collection_name=\"medical_v2\",\n",
    "    )\n",
    "\n",
    "    retriever = vector_store.as_retriever()\n",
    "    if retriever is None:\n",
    "        state[\"response\"] = \"Symptom database not connected (Astra DB retriever missing).\"\n",
    "        return state\n",
    "\n",
<<<<<<< HEAD
=======
    "    # ✅ Fix: include both \"context\" and \"question\"\n",
>>>>>>> 746e4da6e07055b068c13234ed47cf86ec133c5c
    "    llm_prompt = PromptTemplate(\n",
    "        input_variables=[\"context\", \"question\"],\n",
    "        template=\"\"\"\n",
    "You are a knowledgeable medical assistant. Use the following retrieved content to answer the user’s question accurately.\n",
    "\n",
    "Context:\n",
    "{context}\n",
    "\n",
    "Question:\n",
    "{question}\n",
    "\n",
    "Instructions:\n",
    "1. Base your answer only on the retrieved content; do not make unsupported guesses.\n",
    "2. Keep explanations clear and professional, suitable for medical guidance.\n",
    "3. If the retrieved information does not answer the question, politely state that the information is unavailable instead of fabricating an answer.\n",
    "4. Avoid unnecessary technical jargon unless the user asks for detailed medical terms.\n",
    "\n",
    "Answer:\n",
    "\"\"\"\n",
    "    )\n",
    "\n",
    "    # Use RetrievalQA for single-query RAG\n",
    "    qa_chain = RetrievalQA.from_chain_type(\n",
    "        llm=llm,\n",
    "        retriever=retriever,\n",
    "        chain_type=\"stuff\",\n",
    "        chain_type_kwargs={\"prompt\": llm_prompt}\n",
    "    )\n",
    "\n",
    "    result = qa_chain.run(message)\n",
    "    state[\"response\"] = result\n",
    "    return state\n"
   ]
  },
  {
   "cell_type": "code",
<<<<<<< HEAD
   "execution_count": 16,
=======
   "execution_count": 113,
>>>>>>> 746e4da6e07055b068c13234ed47cf86ec133c5c
   "id": "be6f49cc",
   "metadata": {},
   "outputs": [
    {
<<<<<<< HEAD
     "name": "stderr",
     "output_type": "stream",
     "text": [
      "/var/folders/tc/82s4ljdd4vb27_xxzh25mv0w0000gn/T/ipykernel_8734/2049154566.py:55: LangChainDeprecationWarning: The method `Chain.run` was deprecated in langchain 0.1.0 and will be removed in 1.0. Use :meth:`~invoke` instead.\n",
      "  result = qa_chain.run(message)\n"
     ]
    },
    {
=======
>>>>>>> 746e4da6e07055b068c13234ed47cf86ec133c5c
     "name": "stdout",
     "output_type": "stream",
     "text": [
      "User Question: What are the common symptoms of diabetes?\n",
<<<<<<< HEAD
      "RAG Response: The common symptoms of diabetes, as indicated in the provided text, include polyuria (frequent urination), polydipsia (excessive thirst), lethargy, and anorexia (loss of appetite).\n"
=======
      "RAG Response: The retrieved content mentions that common symptoms of diabetes can include polyuria (frequent urination), polydipsia (excessive thirst), lethargy, and anorexia (loss of appetite).\n"
>>>>>>> 746e4da6e07055b068c13234ed47cf86ec133c5c
     ]
    }
   ],
   "source": [
    "if __name__ == \"__main__\":\n",
    "    test_state = {\n",
    "        \"user_message\": \"What are the common symptoms of diabetes?\",\n",
    "        \"disk_memory\": None\n",
    "    }\n",
    "    config = {}\n",
    "    runtime = {}\n",
    "\n",
    "    updated_state = node_symptom(test_state, config, runtime)\n",
    "\n",
    "    print(\"User Question:\", test_state[\"user_message\"])\n",
    "    print(\"RAG Response:\", updated_state[\"response\"])"
   ]
  },
  {
   "cell_type": "code",
   "execution_count": null,
   "id": "0848f031",
   "metadata": {},
   "outputs": [],
<<<<<<< HEAD
   "source": [
    "import json\n",
    "from typing import Dict, Any\n",
    "\n",
    "def node_vaccination_schedule(state):\n",
    "    message = state.user_message or \"\"\n",
    "    if not message:\n",
    "        return state\n",
    "\n",
    "    # Path to the vaccination schedule JSON file\n",
    "    vaccination_json_path = r\"/Users/aashutoshkumar/Documents/Projects/healthgraph-assistant/data/vaccination_schedule.json\"\n",
    "\n",
    "    try:\n",
    "        with open(vaccination_json_path, \"r\", encoding=\"utf-8\") as f:\n",
    "            schedule_data = json.load(f)\n",
    "        docs_json_str = json.dumps(schedule_data, ensure_ascii=False, indent=2)\n",
    "    except Exception as e:\n",
    "        state[\"response\"] = f\"(unable to load vaccination schedule JSON: {e})\"\n",
    "        return state\n",
    "    \n",
    "    prompt = f\"\"\"\n",
    "        You are an assistant that knows how to infer vaccination due-dates from a vaccination schedule JSON.\n",
    "        Use the provided schedule to answer the question as precisely as possible and, when appropriate, return a short checklist.\n",
    "\n",
    "        SCHEDULE_JSON:\n",
    "        {docs_json_str}\n",
    "\n",
    "        QUESTION:\n",
    "        {message}\n",
    "    \"\"\"\n",
    "\n",
    "\n",
    "    answer = llm.invoke(prompt)\n",
    "\n",
    "    state[\"response\"] = str(answer)\n",
    "    return state\n"
   ]
  },
  {
   "cell_type": "code",
   "execution_count": null,
   "id": "def0063e",
   "metadata": {},
   "outputs": [
    {
     "name": "stdout",
     "output_type": "stream",
     "text": [
      "User Question: Which vaccine should i after 2 years after Hepatitis B\n",
      "Assistant Response: content='Based on the provided immunization schedule, there is no vaccine scheduled specifically \"2 years after Hepatitis B\". However, if you are asking what vaccines are due around the age of 2 years (16-24 months), here is a checklist:\\n\\n*   [ ] DPT Booster-1\\n*   [ ] MR-2\\n*   [ ] OPV Booster\\n*   [ ] JE-2\\n*   [ ] Vitamin A (2nd–9th doses)' additional_kwargs={} response_metadata={'prompt_feedback': {'block_reason': 0, 'safety_ratings': []}, 'finish_reason': 'STOP', 'model_name': 'gemini-2.0-flash', 'safety_ratings': []} id='run--d50a7e09-0b80-41cd-88b2-99946a1dab71-0' usage_metadata={'input_tokens': 1789, 'output_tokens': 99, 'total_tokens': 1888, 'input_token_details': {'cache_read': 0}}\n"
     ]
    }
   ],
   "source": [
    "import json\n",
    "from typing import Dict, Any\n",
    "\n",
    "\n",
    "def main():\n",
    "    vaccination_docs = [\n",
    "        type(\"Doc\", (object,), {\"page_content\": \"Child vaccination schedule: Polio at 2 months, 4 months, 6 months\"})(),\n",
    "        type(\"Doc\", (object,), {\"page_content\": \"MMR vaccine at 12 months\"})()\n",
    "    ]\n",
    "\n",
    "    test_state = {\n",
    "        \"user_message\": \"What vaccines are due at 6 months?\",\n",
    "        \"vaccination_docs\": vaccination_docs\n",
    "    }\n",
    "\n",
    "    config = {}\n",
    "    runtime = {}\n",
    "\n",
    "    updated_state = node_vaccination_schedule(test_state, config, runtime)\n",
    "\n",
    "    print(\"User Question:\", test_state[\"user_message\"])\n",
    "    print(\"Assistant Response:\", updated_state[\"response\"])\n",
    "\n",
    "\n",
    "if __name__ == \"__main__\":\n",
    "    main()\n"
   ]
  },
  {
   "cell_type": "code",
   "execution_count": null,
   "id": "63170b64",
   "metadata": {},
   "outputs": [],
   "source": [
    "def node_general_query(state):\n",
    "    message = state.user_message or \"\"\n",
    "    if not message:\n",
    "        return state\n",
    "\n",
    "    disk_mem = state.get(\"disk_memory\")\n",
    "\n",
    "    system_prompt = \"\"\"\n",
    "        You are a knowledgeable, trustworthy medical assistant.\n",
    "        Your role is to provide clear, concise, and medically accurate information \n",
    "        to help users understand their general health-related questions.\n",
    "\n",
    "        Guidelines:\n",
    "        - Use simple, non-technical language unless asked for detail.\n",
    "        - Provide balanced and safe insights, but do not give diagnosis or prescriptions.\n",
    "        - Where appropriate, suggest consulting a doctor for personalized advice.\n",
    "        - Be empathetic and reassuring in tone.\n",
    "        - Organize responses in a readable structure (short paragraphs, bullet points if needed).\n",
    "        \"\"\"\n",
    "\n",
    "    messages = [{\"role\": \"system\", \"content\": system_prompt}]\n",
    "\n",
    "    messages.append({\"role\": \"user\", \"content\": message})\n",
    "    resp = llm.invoke(messages).content\n",
    "    state[\"response\"] = resp\n",
    "\n",
    "    return state\n"
   ]
  },
  {
   "cell_type": "code",
   "execution_count": 41,
   "id": "a9e29cf8",
   "metadata": {},
   "outputs": [],
   "source": [
    "def node_route_dispatcher(state: HealthGraphState):\n",
    "    # if no decision was set yet, fallback to default\n",
    "    decision = state.route_decision or {\"route\": \"general_query\"}\n",
    "    route = decision.get(\"route\", \"general_query\")\n",
    "\n",
    "    if route == \"emergency_outbreak\":\n",
    "        return node_emergency_outbreak(state)\n",
    "    if route == \"symptom\":\n",
    "        return node_symptom(state)\n",
    "    if route == \"vaccination_schedule\":\n",
    "        return node_vaccination_schedule(state)\n",
    "\n",
    "    return node_general_query(state)\n"
   ]
  },
  {
   "cell_type": "code",
   "execution_count": 29,
   "id": "b86f1e6f",
   "metadata": {},
   "outputs": [
    {
     "name": "stdout",
     "output_type": "stream",
     "text": [
      "Workflow compiled successfully.\n"
     ]
    }
   ],
   "source": [
    "from langgraph.graph import StateGraph, START, END\n",
    "\n",
    "# ----------------------------\n",
    "# Initialize StateGraph\n",
    "# ----------------------------\n",
    "workflow = StateGraph(HealthGraphState)\n",
    "\n",
    "# ----------------------------\n",
    "# Add nodes\n",
    "# ----------------------------\n",
    "workflow.add_node(\"twilio_ingress\", node_twilio_ingress)\n",
    "workflow.add_node(\"load_vaccination_json\", node_load_vaccination_json)\n",
    "workflow.add_node(\"load_outbreak_pdf\", node_load_outbreak_pdf)\n",
    "workflow.add_node(\"build_faiss_index\", node_build_faiss_index)\n",
    "workflow.add_node(\"router\", node_router)\n",
    "workflow.add_node(\"route_dispatcher\", node_route_dispatcher)\n",
    "workflow.add_node(\"emergency_outbreak\", node_emergency_outbreak)\n",
    "workflow.add_node(\"symptom\", node_symptom)\n",
    "workflow.add_node(\"vaccination_schedule\", node_vaccination_schedule)\n",
    "workflow.add_node(\"general_query\", node_general_query)\n",
    "\n",
    "# ----------------------------\n",
    "# Define edges / flow\n",
    "# ----------------------------\n",
    "workflow.add_edge(START, \"twilio_ingress\")               # entrypoint\n",
    "workflow.add_edge(\"twilio_ingress\", \"router\")\n",
    "workflow.add_edge(\"router\", \"route_dispatcher\")\n",
    "workflow.add_edge(\"load_vaccination_json\", \"build_faiss_index\")\n",
    "workflow.add_edge(\"load_outbreak_pdf\", \"build_faiss_index\")\n",
    "workflow.add_edge(\"build_faiss_index\", \"route_dispatcher\")\n",
    "workflow.add_edge(\"route_dispatcher\", END)              # endpoint\n",
    "\n",
    "# ----------------------------\n",
    "# Compile the workflow\n",
    "# ----------------------------\n",
    "app = workflow.compile()\n",
    "print(\"Workflow compiled successfully.\")\n"
   ]
  },
  {
   "cell_type": "code",
   "execution_count": 30,
   "id": "f3975e9a",
   "metadata": {},
   "outputs": [
    {
     "name": "stdout",
     "output_type": "stream",
     "text": [
      "Failed to reach https://mermaid.ink/ API while trying to render your graph. Status code: 502.\n",
      "\n",
      "To resolve this issue:\n",
      "1. Check your internet connection and try again\n",
      "2. Try with higher retry settings: `draw_mermaid_png(..., max_retries=5, retry_delay=2.0)`\n",
      "3. Use the Pyppeteer rendering method which will render your graph locally in a browser: `draw_mermaid_png(..., draw_method=MermaidDrawMethod.PYPPETEER)`\n"
     ]
    }
   ],
   "source": [
    "from IPython.display import Image, display\n",
    "\n",
    "try:\n",
    "    display(Image(app.get_graph().draw_mermaid_png()))\n",
    "except Exception as e:\n",
    "    print(e)"
   ]
  },
  {
   "cell_type": "code",
   "execution_count": 31,
   "id": "6d70c719",
   "metadata": {},
   "outputs": [
    {
     "name": "stderr",
     "output_type": "stream",
     "text": [
      "huggingface/tokenizers: The current process just got forked, after parallelism has already been used. Disabling parallelism to avoid deadlocks...\n",
      "To disable this warning, you can either:\n",
      "\t- Avoid using `tokenizers` before the fork if possible\n",
      "\t- Explicitly set the environment variable TOKENIZERS_PARALLELISM=(true | false)\n"
     ]
    },
    {
     "data": {
      "image/png": "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",
      "text/plain": [
       "<IPython.core.display.Image object>"
      ]
     },
     "metadata": {},
     "output_type": "display_data"
    }
   ],
   "source": [
    "import graphviz\n",
    "from IPython.display import Image, display\n",
    "from langgraph.graph import START, END\n",
    "\n",
    "# Define nodes\n",
    "nodes = [\n",
    "    \"twilio_ingress\", \"load_vaccination_json\", \"load_outbreak_pdf\",\n",
    "    \"build_faiss_index\", \"router\",\n",
    "    \"emergency_outbreak\", \"symptom\", \"vaccination_schedule\", \"general_query\"\n",
    "]\n",
    "\n",
    "# Create Graphviz Digraph\n",
    "dot = graphviz.Digraph(comment=\"HealthGraph WhatsApp Pipeline (Conditional Paths)\")\n",
    "\n",
    "# Add START and END nodes\n",
    "dot.node(str(START), \"START\")\n",
    "dot.node(str(END), \"END\")\n",
    "\n",
    "# Add other nodes\n",
    "for n in nodes:\n",
    "    dot.node(n, n)\n",
    "\n",
    "# Add edges\n",
    "edges = [\n",
    "    (START, \"twilio_ingress\"),\n",
    "    (\"twilio_ingress\", \"router\"),\n",
    "    (\"load_vaccination_json\", \"build_faiss_index\"),\n",
    "    (\"load_outbreak_pdf\", \"build_faiss_index\"),\n",
    "    (\"build_faiss_index\", \"router\"),  # ingestion feeds into router\n",
    "]\n",
    "\n",
    "for src, dst in edges:\n",
    "    dot.edge(str(src), str(dst))\n",
    "\n",
    "# Add conditional edges from router\n",
    "router_conditions = {\n",
    "    \"emergency_outbreak\": \"if route == 'emergency_outbreak'\",\n",
    "    \"symptom\": \"if route == 'symptom'\",\n",
    "    \"vaccination_schedule\": \"if route == 'vaccination_schedule'\",\n",
    "    \"general_query\": \"if route == 'general_query'\"\n",
    "}\n",
    "\n",
    "for node, label in router_conditions.items():\n",
    "    dot.edge(\"router\", node, label=label)\n",
    "\n",
    "# Optional: connect the end of each conditional branch to END\n",
    "for node in router_conditions.keys():\n",
    "    dot.edge(node, END, style=\"dashed\")\n",
    "\n",
    "# Display graph in Jupyter\n",
    "display(Image(dot.pipe(format=\"png\")))\n"
   ]
  },
  {
   "cell_type": "code",
   "execution_count": 38,
   "id": "6eeafcbf",
   "metadata": {},
   "outputs": [
    {
     "ename": "AttributeError",
     "evalue": "'HealthGraphState' object has no attribute 'get'",
     "output_type": "error",
     "traceback": [
      "\u001b[0;31m---------------------------------------------------------------------------\u001b[0m",
      "\u001b[0;31mAttributeError\u001b[0m                            Traceback (most recent call last)",
      "Cell \u001b[0;32mIn[38], line 18\u001b[0m\n\u001b[1;32m     12\u001b[0m init_state \u001b[38;5;241m=\u001b[39m {\n\u001b[1;32m     13\u001b[0m     \u001b[38;5;124m\"\u001b[39m\u001b[38;5;124mtwilio_payload\u001b[39m\u001b[38;5;124m\"\u001b[39m: test_payload,\n\u001b[1;32m     14\u001b[0m     \u001b[38;5;124m\"\u001b[39m\u001b[38;5;124mdisk_memory\u001b[39m\u001b[38;5;124m\"\u001b[39m: disk_mem,\n\u001b[1;32m     15\u001b[0m }\n\u001b[1;32m     17\u001b[0m \u001b[38;5;66;03m# Run workflow\u001b[39;00m\n\u001b[0;32m---> 18\u001b[0m result \u001b[38;5;241m=\u001b[39m \u001b[43mapp\u001b[49m\u001b[38;5;241;43m.\u001b[39;49m\u001b[43minvoke\u001b[49m\u001b[43m(\u001b[49m\u001b[43minit_state\u001b[49m\u001b[43m)\u001b[49m\n\u001b[1;32m     19\u001b[0m \u001b[38;5;28mprint\u001b[39m(\u001b[38;5;124m\"\u001b[39m\u001b[38;5;124mFinal Response:\u001b[39m\u001b[38;5;124m\"\u001b[39m, result\u001b[38;5;241m.\u001b[39mget(\u001b[38;5;124m\"\u001b[39m\u001b[38;5;124mresponse\u001b[39m\u001b[38;5;124m\"\u001b[39m))\n",
      "File \u001b[0;32m/opt/anaconda3/envs/env/lib/python3.9/site-packages/langgraph/pregel/main.py:3026\u001b[0m, in \u001b[0;36mPregel.invoke\u001b[0;34m(self, input, config, context, stream_mode, print_mode, output_keys, interrupt_before, interrupt_after, durability, **kwargs)\u001b[0m\n\u001b[1;32m   3023\u001b[0m chunks: \u001b[38;5;28mlist\u001b[39m[\u001b[38;5;28mdict\u001b[39m[\u001b[38;5;28mstr\u001b[39m, Any] \u001b[38;5;241m|\u001b[39m Any] \u001b[38;5;241m=\u001b[39m []\n\u001b[1;32m   3024\u001b[0m interrupts: \u001b[38;5;28mlist\u001b[39m[Interrupt] \u001b[38;5;241m=\u001b[39m []\n\u001b[0;32m-> 3026\u001b[0m \u001b[38;5;28;01mfor\u001b[39;00m chunk \u001b[38;5;129;01min\u001b[39;00m \u001b[38;5;28mself\u001b[39m\u001b[38;5;241m.\u001b[39mstream(\n\u001b[1;32m   3027\u001b[0m     \u001b[38;5;28minput\u001b[39m,\n\u001b[1;32m   3028\u001b[0m     config,\n\u001b[1;32m   3029\u001b[0m     context\u001b[38;5;241m=\u001b[39mcontext,\n\u001b[1;32m   3030\u001b[0m     stream_mode\u001b[38;5;241m=\u001b[39m[\u001b[38;5;124m\"\u001b[39m\u001b[38;5;124mupdates\u001b[39m\u001b[38;5;124m\"\u001b[39m, \u001b[38;5;124m\"\u001b[39m\u001b[38;5;124mvalues\u001b[39m\u001b[38;5;124m\"\u001b[39m]\n\u001b[1;32m   3031\u001b[0m     \u001b[38;5;28;01mif\u001b[39;00m stream_mode \u001b[38;5;241m==\u001b[39m \u001b[38;5;124m\"\u001b[39m\u001b[38;5;124mvalues\u001b[39m\u001b[38;5;124m\"\u001b[39m\n\u001b[1;32m   3032\u001b[0m     \u001b[38;5;28;01melse\u001b[39;00m stream_mode,\n\u001b[1;32m   3033\u001b[0m     print_mode\u001b[38;5;241m=\u001b[39mprint_mode,\n\u001b[1;32m   3034\u001b[0m     output_keys\u001b[38;5;241m=\u001b[39moutput_keys,\n\u001b[1;32m   3035\u001b[0m     interrupt_before\u001b[38;5;241m=\u001b[39minterrupt_before,\n\u001b[1;32m   3036\u001b[0m     interrupt_after\u001b[38;5;241m=\u001b[39minterrupt_after,\n\u001b[1;32m   3037\u001b[0m     durability\u001b[38;5;241m=\u001b[39mdurability,\n\u001b[1;32m   3038\u001b[0m     \u001b[38;5;241m*\u001b[39m\u001b[38;5;241m*\u001b[39mkwargs,\n\u001b[1;32m   3039\u001b[0m ):\n\u001b[1;32m   3040\u001b[0m     \u001b[38;5;28;01mif\u001b[39;00m stream_mode \u001b[38;5;241m==\u001b[39m \u001b[38;5;124m\"\u001b[39m\u001b[38;5;124mvalues\u001b[39m\u001b[38;5;124m\"\u001b[39m:\n\u001b[1;32m   3041\u001b[0m         \u001b[38;5;28;01mif\u001b[39;00m \u001b[38;5;28mlen\u001b[39m(chunk) \u001b[38;5;241m==\u001b[39m \u001b[38;5;241m2\u001b[39m:\n",
      "File \u001b[0;32m/opt/anaconda3/envs/env/lib/python3.9/site-packages/langgraph/pregel/main.py:2647\u001b[0m, in \u001b[0;36mPregel.stream\u001b[0;34m(self, input, config, context, stream_mode, print_mode, output_keys, interrupt_before, interrupt_after, durability, subgraphs, debug, **kwargs)\u001b[0m\n\u001b[1;32m   2645\u001b[0m \u001b[38;5;28;01mfor\u001b[39;00m task \u001b[38;5;129;01min\u001b[39;00m loop\u001b[38;5;241m.\u001b[39mmatch_cached_writes():\n\u001b[1;32m   2646\u001b[0m     loop\u001b[38;5;241m.\u001b[39moutput_writes(task\u001b[38;5;241m.\u001b[39mid, task\u001b[38;5;241m.\u001b[39mwrites, cached\u001b[38;5;241m=\u001b[39m\u001b[38;5;28;01mTrue\u001b[39;00m)\n\u001b[0;32m-> 2647\u001b[0m \u001b[38;5;28;01mfor\u001b[39;00m _ \u001b[38;5;129;01min\u001b[39;00m runner\u001b[38;5;241m.\u001b[39mtick(\n\u001b[1;32m   2648\u001b[0m     [t \u001b[38;5;28;01mfor\u001b[39;00m t \u001b[38;5;129;01min\u001b[39;00m loop\u001b[38;5;241m.\u001b[39mtasks\u001b[38;5;241m.\u001b[39mvalues() \u001b[38;5;28;01mif\u001b[39;00m \u001b[38;5;129;01mnot\u001b[39;00m t\u001b[38;5;241m.\u001b[39mwrites],\n\u001b[1;32m   2649\u001b[0m     timeout\u001b[38;5;241m=\u001b[39m\u001b[38;5;28mself\u001b[39m\u001b[38;5;241m.\u001b[39mstep_timeout,\n\u001b[1;32m   2650\u001b[0m     get_waiter\u001b[38;5;241m=\u001b[39mget_waiter,\n\u001b[1;32m   2651\u001b[0m     schedule_task\u001b[38;5;241m=\u001b[39mloop\u001b[38;5;241m.\u001b[39maccept_push,\n\u001b[1;32m   2652\u001b[0m ):\n\u001b[1;32m   2653\u001b[0m     \u001b[38;5;66;03m# emit output\u001b[39;00m\n\u001b[1;32m   2654\u001b[0m     \u001b[38;5;28;01myield from\u001b[39;00m _output(\n\u001b[1;32m   2655\u001b[0m         stream_mode, print_mode, subgraphs, stream\u001b[38;5;241m.\u001b[39mget, queue\u001b[38;5;241m.\u001b[39mEmpty\n\u001b[1;32m   2656\u001b[0m     )\n\u001b[1;32m   2657\u001b[0m loop\u001b[38;5;241m.\u001b[39mafter_tick()\n",
      "File \u001b[0;32m/opt/anaconda3/envs/env/lib/python3.9/site-packages/langgraph/pregel/_runner.py:162\u001b[0m, in \u001b[0;36mPregelRunner.tick\u001b[0;34m(self, tasks, reraise, timeout, retry_policy, get_waiter, schedule_task)\u001b[0m\n\u001b[1;32m    160\u001b[0m t \u001b[38;5;241m=\u001b[39m tasks[\u001b[38;5;241m0\u001b[39m]\n\u001b[1;32m    161\u001b[0m \u001b[38;5;28;01mtry\u001b[39;00m:\n\u001b[0;32m--> 162\u001b[0m     \u001b[43mrun_with_retry\u001b[49m\u001b[43m(\u001b[49m\n\u001b[1;32m    163\u001b[0m \u001b[43m        \u001b[49m\u001b[43mt\u001b[49m\u001b[43m,\u001b[49m\n\u001b[1;32m    164\u001b[0m \u001b[43m        \u001b[49m\u001b[43mretry_policy\u001b[49m\u001b[43m,\u001b[49m\n\u001b[1;32m    165\u001b[0m \u001b[43m        \u001b[49m\u001b[43mconfigurable\u001b[49m\u001b[38;5;241;43m=\u001b[39;49m\u001b[43m{\u001b[49m\n\u001b[1;32m    166\u001b[0m \u001b[43m            \u001b[49m\u001b[43mCONFIG_KEY_CALL\u001b[49m\u001b[43m:\u001b[49m\u001b[43m \u001b[49m\u001b[43mpartial\u001b[49m\u001b[43m(\u001b[49m\n\u001b[1;32m    167\u001b[0m \u001b[43m                \u001b[49m\u001b[43m_call\u001b[49m\u001b[43m,\u001b[49m\n\u001b[1;32m    168\u001b[0m \u001b[43m                \u001b[49m\u001b[43mweakref\u001b[49m\u001b[38;5;241;43m.\u001b[39;49m\u001b[43mref\u001b[49m\u001b[43m(\u001b[49m\u001b[43mt\u001b[49m\u001b[43m)\u001b[49m\u001b[43m,\u001b[49m\n\u001b[1;32m    169\u001b[0m \u001b[43m                \u001b[49m\u001b[43mretry_policy\u001b[49m\u001b[38;5;241;43m=\u001b[39;49m\u001b[43mretry_policy\u001b[49m\u001b[43m,\u001b[49m\n\u001b[1;32m    170\u001b[0m \u001b[43m                \u001b[49m\u001b[43mfutures\u001b[49m\u001b[38;5;241;43m=\u001b[39;49m\u001b[43mweakref\u001b[49m\u001b[38;5;241;43m.\u001b[39;49m\u001b[43mref\u001b[49m\u001b[43m(\u001b[49m\u001b[43mfutures\u001b[49m\u001b[43m)\u001b[49m\u001b[43m,\u001b[49m\n\u001b[1;32m    171\u001b[0m \u001b[43m                \u001b[49m\u001b[43mschedule_task\u001b[49m\u001b[38;5;241;43m=\u001b[39;49m\u001b[43mschedule_task\u001b[49m\u001b[43m,\u001b[49m\n\u001b[1;32m    172\u001b[0m \u001b[43m                \u001b[49m\u001b[43msubmit\u001b[49m\u001b[38;5;241;43m=\u001b[39;49m\u001b[38;5;28;43mself\u001b[39;49m\u001b[38;5;241;43m.\u001b[39;49m\u001b[43msubmit\u001b[49m\u001b[43m,\u001b[49m\n\u001b[1;32m    173\u001b[0m \u001b[43m            \u001b[49m\u001b[43m)\u001b[49m\u001b[43m,\u001b[49m\n\u001b[1;32m    174\u001b[0m \u001b[43m        \u001b[49m\u001b[43m}\u001b[49m\u001b[43m,\u001b[49m\n\u001b[1;32m    175\u001b[0m \u001b[43m    \u001b[49m\u001b[43m)\u001b[49m\n\u001b[1;32m    176\u001b[0m     \u001b[38;5;28mself\u001b[39m\u001b[38;5;241m.\u001b[39mcommit(t, \u001b[38;5;28;01mNone\u001b[39;00m)\n\u001b[1;32m    177\u001b[0m \u001b[38;5;28;01mexcept\u001b[39;00m \u001b[38;5;167;01mException\u001b[39;00m \u001b[38;5;28;01mas\u001b[39;00m exc:\n",
      "File \u001b[0;32m/opt/anaconda3/envs/env/lib/python3.9/site-packages/langgraph/pregel/_retry.py:42\u001b[0m, in \u001b[0;36mrun_with_retry\u001b[0;34m(task, retry_policy, configurable)\u001b[0m\n\u001b[1;32m     40\u001b[0m     task\u001b[38;5;241m.\u001b[39mwrites\u001b[38;5;241m.\u001b[39mclear()\n\u001b[1;32m     41\u001b[0m     \u001b[38;5;66;03m# run the task\u001b[39;00m\n\u001b[0;32m---> 42\u001b[0m     \u001b[38;5;28;01mreturn\u001b[39;00m \u001b[43mtask\u001b[49m\u001b[38;5;241;43m.\u001b[39;49m\u001b[43mproc\u001b[49m\u001b[38;5;241;43m.\u001b[39;49m\u001b[43minvoke\u001b[49m\u001b[43m(\u001b[49m\u001b[43mtask\u001b[49m\u001b[38;5;241;43m.\u001b[39;49m\u001b[43minput\u001b[49m\u001b[43m,\u001b[49m\u001b[43m \u001b[49m\u001b[43mconfig\u001b[49m\u001b[43m)\u001b[49m\n\u001b[1;32m     43\u001b[0m \u001b[38;5;28;01mexcept\u001b[39;00m ParentCommand \u001b[38;5;28;01mas\u001b[39;00m exc:\n\u001b[1;32m     44\u001b[0m     ns: \u001b[38;5;28mstr\u001b[39m \u001b[38;5;241m=\u001b[39m config[CONF][CONFIG_KEY_CHECKPOINT_NS]\n",
      "File \u001b[0;32m/opt/anaconda3/envs/env/lib/python3.9/site-packages/langgraph/_internal/_runnable.py:657\u001b[0m, in \u001b[0;36mRunnableSeq.invoke\u001b[0;34m(self, input, config, **kwargs)\u001b[0m\n\u001b[1;32m    655\u001b[0m     \u001b[38;5;66;03m# run in context\u001b[39;00m\n\u001b[1;32m    656\u001b[0m     \u001b[38;5;28;01mwith\u001b[39;00m set_config_context(config, run) \u001b[38;5;28;01mas\u001b[39;00m context:\n\u001b[0;32m--> 657\u001b[0m         \u001b[38;5;28minput\u001b[39m \u001b[38;5;241m=\u001b[39m \u001b[43mcontext\u001b[49m\u001b[38;5;241;43m.\u001b[39;49m\u001b[43mrun\u001b[49m\u001b[43m(\u001b[49m\u001b[43mstep\u001b[49m\u001b[38;5;241;43m.\u001b[39;49m\u001b[43minvoke\u001b[49m\u001b[43m,\u001b[49m\u001b[43m \u001b[49m\u001b[38;5;28;43minput\u001b[39;49m\u001b[43m,\u001b[49m\u001b[43m \u001b[49m\u001b[43mconfig\u001b[49m\u001b[43m,\u001b[49m\u001b[43m \u001b[49m\u001b[38;5;241;43m*\u001b[39;49m\u001b[38;5;241;43m*\u001b[39;49m\u001b[43mkwargs\u001b[49m\u001b[43m)\u001b[49m\n\u001b[1;32m    658\u001b[0m \u001b[38;5;28;01melse\u001b[39;00m:\n\u001b[1;32m    659\u001b[0m     \u001b[38;5;28minput\u001b[39m \u001b[38;5;241m=\u001b[39m step\u001b[38;5;241m.\u001b[39minvoke(\u001b[38;5;28minput\u001b[39m, config)\n",
      "File \u001b[0;32m/opt/anaconda3/envs/env/lib/python3.9/site-packages/langgraph/_internal/_runnable.py:401\u001b[0m, in \u001b[0;36mRunnableCallable.invoke\u001b[0;34m(self, input, config, **kwargs)\u001b[0m\n\u001b[1;32m    399\u001b[0m         run_manager\u001b[38;5;241m.\u001b[39mon_chain_end(ret)\n\u001b[1;32m    400\u001b[0m \u001b[38;5;28;01melse\u001b[39;00m:\n\u001b[0;32m--> 401\u001b[0m     ret \u001b[38;5;241m=\u001b[39m \u001b[38;5;28;43mself\u001b[39;49m\u001b[38;5;241;43m.\u001b[39;49m\u001b[43mfunc\u001b[49m\u001b[43m(\u001b[49m\u001b[38;5;241;43m*\u001b[39;49m\u001b[43margs\u001b[49m\u001b[43m,\u001b[49m\u001b[43m \u001b[49m\u001b[38;5;241;43m*\u001b[39;49m\u001b[38;5;241;43m*\u001b[39;49m\u001b[43mkwargs\u001b[49m\u001b[43m)\u001b[49m\n\u001b[1;32m    402\u001b[0m \u001b[38;5;28;01mif\u001b[39;00m \u001b[38;5;28mself\u001b[39m\u001b[38;5;241m.\u001b[39mrecurse \u001b[38;5;129;01mand\u001b[39;00m \u001b[38;5;28misinstance\u001b[39m(ret, Runnable):\n\u001b[1;32m    403\u001b[0m     \u001b[38;5;28;01mreturn\u001b[39;00m ret\u001b[38;5;241m.\u001b[39minvoke(\u001b[38;5;28minput\u001b[39m, config)\n",
      "Cell \u001b[0;32mIn[28], line 2\u001b[0m, in \u001b[0;36mnode_twilio_ingress\u001b[0;34m(state)\u001b[0m\n\u001b[1;32m      1\u001b[0m \u001b[38;5;28;01mdef\u001b[39;00m\u001b[38;5;250m \u001b[39m\u001b[38;5;21mnode_twilio_ingress\u001b[39m(state):\n\u001b[0;32m----> 2\u001b[0m     payload \u001b[38;5;241m=\u001b[39m \u001b[43mstate\u001b[49m\u001b[38;5;241;43m.\u001b[39;49m\u001b[43mget\u001b[49m(\u001b[38;5;124m\"\u001b[39m\u001b[38;5;124mtwilio_payload\u001b[39m\u001b[38;5;124m\"\u001b[39m)\n\u001b[1;32m      3\u001b[0m     \u001b[38;5;28;01mif\u001b[39;00m \u001b[38;5;129;01mnot\u001b[39;00m payload:\n\u001b[1;32m      4\u001b[0m         \u001b[38;5;28;01mreturn\u001b[39;00m state\n",
      "File \u001b[0;32m/opt/anaconda3/envs/env/lib/python3.9/site-packages/pydantic/main.py:991\u001b[0m, in \u001b[0;36mBaseModel.__getattr__\u001b[0;34m(self, item)\u001b[0m\n\u001b[1;32m    988\u001b[0m     \u001b[38;5;28;01mreturn\u001b[39;00m \u001b[38;5;28msuper\u001b[39m()\u001b[38;5;241m.\u001b[39m\u001b[38;5;21m__getattribute__\u001b[39m(item)  \u001b[38;5;66;03m# Raises AttributeError if appropriate\u001b[39;00m\n\u001b[1;32m    989\u001b[0m \u001b[38;5;28;01melse\u001b[39;00m:\n\u001b[1;32m    990\u001b[0m     \u001b[38;5;66;03m# this is the current error\u001b[39;00m\n\u001b[0;32m--> 991\u001b[0m     \u001b[38;5;28;01mraise\u001b[39;00m \u001b[38;5;167;01mAttributeError\u001b[39;00m(\u001b[38;5;124mf\u001b[39m\u001b[38;5;124m'\u001b[39m\u001b[38;5;132;01m{\u001b[39;00m\u001b[38;5;28mtype\u001b[39m(\u001b[38;5;28mself\u001b[39m)\u001b[38;5;241m.\u001b[39m\u001b[38;5;18m__name__\u001b[39m\u001b[38;5;132;01m!r}\u001b[39;00m\u001b[38;5;124m object has no attribute \u001b[39m\u001b[38;5;132;01m{\u001b[39;00mitem\u001b[38;5;132;01m!r}\u001b[39;00m\u001b[38;5;124m'\u001b[39m)\n",
      "\u001b[0;31mAttributeError\u001b[0m: 'HealthGraphState' object has no attribute 'get'"
     ]
    }
   ],
   "source": [
    "if __name__ == \"__main__\":\n",
    "    # Initialize disk memory\n",
    "    disk_mem = DiskConversationMemory()\n",
    "\n",
    "    # Example test payload (simulate WhatsApp)\n",
    "    test_payload = {\n",
    "        \"Body\": \"What vaccines are due for a 2 year old?\",\n",
    "        \"From\": \"+911234567890\"\n",
    "    }\n",
    "\n",
    "    # Build initial state\n",
    "    init_state = {\n",
    "        \"twilio_payload\": test_payload,\n",
    "        \"disk_memory\": disk_mem,\n",
    "    }\n",
    "\n",
    "    # Run workflow\n",
    "    result = app.invoke(init_state)\n",
    "    print(\"Final Response:\", result.get(\"response\"))\n"
   ]
  },
  {
   "cell_type": "code",
   "execution_count": null,
   "id": "ceec80ac",
   "metadata": {},
   "outputs": [],
=======
>>>>>>> 746e4da6e07055b068c13234ed47cf86ec133c5c
   "source": []
  }
 ],
 "metadata": {
  "kernelspec": {
   "display_name": "env",
   "language": "python",
   "name": "python3"
  },
  "language_info": {
   "codemirror_mode": {
    "name": "ipython",
    "version": 3
   },
   "file_extension": ".py",
   "mimetype": "text/x-python",
   "name": "python",
   "nbconvert_exporter": "python",
   "pygments_lexer": "ipython3",
   "version": "3.9.23"
  }
 },
 "nbformat": 4,
 "nbformat_minor": 5
}
